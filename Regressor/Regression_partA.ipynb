{
 "cells": [
  {
   "cell_type": "markdown",
   "metadata": {},
   "source": [
    "@author: Mahesh Gaya\n",
    "\n",
    "@description: project 3 Question 2 part A\n",
    "\n",
    "# Red Wine Quality\n",
    "http://archive.ics.uci.edu/ml/datasets/Wine+Quality\n",
    "\n",
    "Input variables (based on physicochemical tests):\n",
    "\n",
    "|num|description\n",
    "|---|------------\n",
    "|1| fixed acidity\n",
    "|2| volatile acidity\n",
    "|3| citric acid\n",
    "|4|residual sugar\n",
    "|5| chlorides\n",
    "|6|free sulfur dioxide\n",
    "|7|total sulfur dioxide\n",
    "|8|density\n",
    "|9|pH\n",
    "|10|sulphates\n",
    "|11|alcohol\n",
    "\n",
    "Output variable (based on sensory data): \n",
    "\n",
    "   12 - quality (score between 0 and 10)\n",
    "   \n",
    "Columns:\n",
    "\n",
    "['fixed acidity' 'volatile acidity' 'citric acid' 'residual sugar'\n",
    " 'chlorides' 'free sulfur dioxide' 'total sulfur dioxide' 'density' 'pH'\n",
    " 'sulphates' 'alcohol' 'quality']\n"
   ]
  },
  {
   "cell_type": "code",
   "execution_count": 193,
   "metadata": {
    "collapsed": false
   },
   "outputs": [
    {
     "data": {
      "text/plain": [
       "3.9808863512709836e+23"
      ]
     },
     "execution_count": 193,
     "metadata": {},
     "output_type": "execute_result"
    }
   ],
   "source": [
    "import pandas\n",
    "from sklearn.linear_model import SGDRegressor\n",
    "from sklearn import model_selection \n",
    "from sklearn.metrics import mean_squared_error\n",
    "\n",
    "wine_data = pandas.read_csv('winequality-red.csv')\n",
    "#print(machine_data)\n",
    "    \n",
    "(train_data, test_data) = model_selection.train_test_split(wine_data,\\\n",
    "test_size = 0.2)\n",
    "#print(machine_data.columns.values)\n",
    "\n",
    "predictors = ['fixed acidity', 'volatile acidity', 'citric acid', 'residual sugar',\\\n",
    " 'chlorides', 'free sulfur dioxide', 'total sulfur dioxide', 'density', 'pH',\\\n",
    " 'sulphates', 'alcohol']\n",
    "\n",
    "regressor = SGDRegressor()\n",
    "regressor.fit(train_data[predictors], train_data['quality'])\n",
    "wine_predictions = regressor.predict(test_data[predictors])\n",
    "#print(machine_predictions)\n",
    "mean_squared_error(test_data['quality'], wine_predictions)\n"
   ]
  },
  {
   "cell_type": "code",
   "execution_count": 194,
   "metadata": {
    "collapsed": true
   },
   "outputs": [],
   "source": [
    "def calculate_avgerage_mse(list):\n",
    "    sum = 0\n",
    "    for item in list:\n",
    "        sum = sum + item\n",
    "    return sum/(len(list))\n",
    "#Test\n",
    "#list = range(0,10)\n",
    "#print(str(calculate_avgerage_accuracy(list)))"
   ]
  },
  {
   "cell_type": "code",
   "execution_count": 192,
   "metadata": {
    "collapsed": false
   },
   "outputs": [
    {
     "data": {
      "image/png": "[encoded data removed]",
      "text/plain": [
       "<matplotlib.figure.Figure at 0x1189fef98>"
      ]
     },
     "metadata": {},
     "output_type": "display_data"
    }
   ],
   "source": [
    "'''\n",
    "Plot\n",
    "'''\n",
    "import matplotlib.pyplot as plt\n",
    "%matplotlib inline\n",
    "\n",
    "avg_accuracies = [0.8356435643566, 4.4593964120950754e+24, 3.951220193882561e+24, 1.287140402991149e+24,\n",
    "                 3.399675321098929e+23, 1.0063270090274264e+24]\n",
    "x_values = [5, 10, 20, 40, 100, 200]\n",
    "\n",
    "plt.plot(x_values, avg_accuracies)\n",
    "\n",
    "plt.xlabel('Number of Epochs')\n",
    "plt.ylabel('Average Mean Squared Error')\n",
    "plt.show()"
   ]
  },
  {
   "cell_type": "code",
   "execution_count": 190,
   "metadata": {
    "collapsed": false
   },
   "outputs": [
    {
     "data": {
      "text/plain": [
       "3.853619968883584e+22"
      ]
     },
     "execution_count": 190,
     "metadata": {},
     "output_type": "execute_result"
    }
   ],
   "source": [
    "regressor = SGDRegressor(n_iter=200)\n",
    "regressor.fit(train_data[predictors], train_data['quality'])\n",
    "wine_predictions = regressor.predict(test_data[predictors])\n",
    "#print(machine_predictions)\n",
    "mean_squared_error(test_data['quality'], wine_predictions)"
   ]
  },
  {
   "cell_type": "markdown",
   "metadata": {},
   "source": [
    "# n_iter=200\n",
    "\n",
    "|iter|Mean Squared Error\n",
    "|----|-----------------\n",
    "|1|3.9103517973644419e+24\n",
    "|2|7.7285747831038007e+21\n",
    "|3|2.2540926477234563e+21\n",
    "|4|7.634414329783513e+21\n",
    "|5|5.3359554733713171e+21\n",
    "|6|6.5957593250109661e+21\n",
    "|7|6.7635916283758804e+21\n",
    "|8|6.7043510505659481e+24\n",
    "|9|9.0300968632098425e+24\n",
    "|10|1.6628641146332303e+22\n",
    "|11|8.5818778114116996e+20\n",
    "|12|3.4293375485244041e+20\n",
    "|13|1.0658221679547165e+22\n",
    "|14|1.7597039545756746e+21\n",
    "|15|3.1531138756396656e+23\n",
    "|16|4.636635737739075e+21\n",
    "|17|3.8712851993060172e+22\n",
    "|18|1.7761207183951603e+22\n",
    "|19|2.2211073692231523e+20\n",
    "|20|3.853619968883584e+22"
   ]
  },
  {
   "cell_type": "code",
   "execution_count": 195,
   "metadata": {
    "collapsed": false
   },
   "outputs": [
    {
     "data": {
      "text/plain": [
       "1.0063270090274264e+24"
      ]
     },
     "execution_count": 195,
     "metadata": {},
     "output_type": "execute_result"
    }
   ],
   "source": [
    "calculate_avgerage_mse([3.9103517973644419e+24, 7.7285747831038007e+21, 2.2540926477234563e+21,\n",
    "                            7.634414329783513e+21, 5.3359554733713171e+21, 6.5957593250109661e+21,\n",
    "                            6.7635916283758804e+21, 6.7043510505659481e+24, 9.0300968632098425e+24,\n",
    "                            1.6628641146332303e+22, 8.5818778114116996e+20, 3.4293375485244041e+20, \n",
    "                            1.0658221679547165e+22, 1.7597039545756746e+21, 3.1531138756396656e+23,\n",
    "                            4.636635737739075e+21, 3.8712851993060172e+22, 1.7761207183951603e+22,\n",
    "                            2.2211073692231523e+20, 3.853619968883584e+22])"
   ]
  },
  {
   "cell_type": "markdown",
   "metadata": {},
   "source": [
    "# n_iter=100\n",
    "\n",
    "|iter|Mean Squared Error\n",
    "|----|------------------\n",
    "|1|3.3598199995543992e+22\n",
    "|2|2.0129787074292862e+22\n",
    "|3|3.9678876106304132e+22\n",
    "|4|2.3231046069544786e+21\n",
    "|5|2.1801711648109264e+22\n",
    "|6|4.0071809250034658e+22\n",
    "|7|3.1551457132274348e+21\n",
    "|8|8.3295752688523556e+23\n",
    "|9|6.4341567781010292e+21\n",
    "|10|7.3870949973476167e+20\n",
    "|11|4.7222506843297945e+21\n",
    "|12|3.8810454131417127e+21\n",
    "|13|1.0332654404644767e+22\n",
    "|14|1.9394912528746932e+22\n",
    "|15|5.5048484831280759e+20\n",
    "|16|3.7473074490162408e+22\n",
    "|17|8.3272641965238963e+20\n",
    "|18|5.3851219643333268e+24\n",
    "|19|3.3339236279592415e+23\n",
    "|20|2.76013872207701e+21"
   ]
  },
  {
   "cell_type": "code",
   "execution_count": 196,
   "metadata": {
    "collapsed": false
   },
   "outputs": [
    {
     "data": {
      "text/plain": [
       "3.399675321098929e+23"
      ]
     },
     "execution_count": 196,
     "metadata": {},
     "output_type": "execute_result"
    }
   ],
   "source": [
    "calculate_avgerage_mse([3.3598199995543992e+22, 2.0129787074292862e+22, 3.9678876106304132e+22,\n",
    "                            2.3231046069544786e+21, 2.1801711648109264e+22, 4.0071809250034658e+22, \n",
    "                            3.1551457132274348e+21, 8.3295752688523556e+23, 6.4341567781010292e+21, \n",
    "                            7.3870949973476167e+20, 4.7222506843297945e+21, 3.8810454131417127e+21,\n",
    "                            1.0332654404644767e+22, 1.9394912528746932e+22, 5.5048484831280759e+20,\n",
    "                            3.7473074490162408e+22, 8.3272641965238963e+20, 5.3851219643333268e+24, \n",
    "                            3.3339236279592415e+23, 2.76013872207701e+21])"
   ]
  },
  {
   "cell_type": "markdown",
   "metadata": {},
   "source": [
    "# n_iter_40\n",
    "\n",
    "|iter|Mean Squared Error\n",
    "|----|------------------\n",
    "|1|8.6407339440997518e+22\n",
    "|2|2.069068515601511e+23\n",
    "|3|4.1237330732080311e+21\n",
    "|4|7.4543613368306594e+23\n",
    "|5|3.04648005408953e+21\n",
    "|6|3.7561884312813798e+23\n",
    "|7|6.678995890720387e+24\n",
    "|8|7.1092119213345988e+23\n",
    "|9|6.4252301875567338e+23\n",
    "|10|2.4028550324427911e+23\n",
    "|11|7.3880951396572786e+24\n",
    "|12|1.5840884597577132e+22\n",
    "|13|4.7893209552012265e+21\n",
    "|14|3.2739804175795248e+24\n",
    "|15|3.7317482374689764e+22\n",
    "|16|2.6443064031746378e+22\n",
    "|17|3.2444643151345722e+23\n",
    "|18|6.3129876129350423e+23\n",
    "|19|3.0562252388375054e+23\n",
    "|20|4.0407090481428053e+24"
   ]
  },
  {
   "cell_type": "code",
   "execution_count": 147,
   "metadata": {
    "collapsed": false
   },
   "outputs": [
    {
     "data": {
      "text/plain": [
       "1.287140402991149e+24"
      ]
     },
     "execution_count": 147,
     "metadata": {},
     "output_type": "execute_result"
    }
   ],
   "source": [
    "calculate_avgerage_mse([8.6407339440997518e+22, 2.069068515601511e+23, 4.1237330732080311e+21,\n",
    "                            7.4543613368306594e+23, 3.04648005408953e+21, 3.7561884312813798e+23, \n",
    "                            6.678995890720387e+24, 7.1092119213345988e+23, 6.4252301875567338e+23,\n",
    "                            2.4028550324427911e+23, 7.3880951396572786e+24, 1.5840884597577132e+22,\n",
    "                            4.7893209552012265e+21, 3.2739804175795248e+24, 3.7317482374689764e+22,\n",
    "                            2.6443064031746378e+22, 3.2444643151345722e+23, 6.3129876129350423e+23, \n",
    "                            3.0562252388375054e+23, 4.0407090481428053e+24])"
   ]
  },
  {
   "cell_type": "markdown",
   "metadata": {},
   "source": [
    "# n_iter=20\n",
    "\n",
    "|iter|Mean squared Error\n",
    "|----|------------------\n",
    "|1|1.366870201439146e+25\n",
    "|2|3.6649749292048477e+22\n",
    "|3|2.3413174710824778e+22\n",
    "|4|4.4944356689967071e+21\n",
    "|5|9.6286624449159097e+21\n",
    "|6|1.8870656731705378e+25\n",
    "|7|5.9312299069816893e+24\n",
    "|8|4.1324229924594586e+23\n",
    "|9|4.1170565097195653e+22\n",
    "|10|4.1760438444507487e+22\n",
    "|11|1.1451666458668423e+23\n",
    "|12|6.6970847747440622e+24\n",
    "|13|1.2500659647754643e+23\n",
    "|14|7.6272694311328505e+23\n",
    "|15|3.2349509247354146e+23\n",
    "|16|1.0694781803058283e+22\n",
    "|17|2.8084247345058741e+25\n",
    "|18|3.4590845945002024e+24\n",
    "|19|1.6775307675585075e+23\n",
    "|20|2.3884603015529997e+23"
   ]
  },
  {
   "cell_type": "code",
   "execution_count": 197,
   "metadata": {
    "collapsed": false
   },
   "outputs": [
    {
     "data": {
      "text/plain": [
       "3.951220193882561e+24"
      ]
     },
     "execution_count": 197,
     "metadata": {},
     "output_type": "execute_result"
    }
   ],
   "source": [
    "calculate_avgerage_mse([1.366870201439146e+25, 3.6649749292048477e+22, 2.3413174710824778e+22,\n",
    "                            4.4944356689967071e+21, 9.6286624449159097e+21, 1.8870656731705378e+25,\n",
    "                            5.9312299069816893e+24, 4.1324229924594586e+23, 4.1170565097195653e+22, \n",
    "                            4.1760438444507487e+22, 1.1451666458668423e+23, 6.6970847747440622e+24,\n",
    "                            1.2500659647754643e+23, 7.6272694311328505e+23, 3.2349509247354146e+23, \n",
    "                            1.0694781803058283e+22, 2.8084247345058741e+25, 3.4590845945002024e+24,\n",
    "                            1.6775307675585075e+23, 2.3884603015529997e+23])"
   ]
  },
  {
   "cell_type": "markdown",
   "metadata": {},
   "source": [
    "# n_iter=10\n",
    "\n",
    "|iter| Mean Squared Error\n",
    "|----|------------------\n",
    "|1|2.1946464346355207e+22\n",
    "|2|3.0088100351192708e+22\n",
    "|3|3.3394748226482341e+23\n",
    "|4|1.318099199355746e+21\n",
    "|5|7.5281187532874213e+23\n",
    "|6|1.1842732217839136e+25\n",
    "|7|9.858718838473629e+23\n",
    "|8|3.3137565695628452e+23\n",
    "|9|1.7608654508599521e+25\n",
    "|10|4.7484097141202911e+22\n",
    "|11|3.6826961004994901e+23\n",
    "|12|4.8512372771319636e+24\n",
    "|13|7.0511133810066368e+23\n",
    "|14|5.5623636351524714e+23\n",
    "|15|9.8863722612537881e+22\n",
    "|16|2.9085034128627577e+25\n",
    "|17|6.9103412422731057e+24\n",
    "|18|1.4964526959746178e+23\n",
    "|19|8.3825688972756838e+23\n",
    "|20|1.366870201439146e+25"
   ]
  },
  {
   "cell_type": "code",
   "execution_count": 198,
   "metadata": {
    "collapsed": false
   },
   "outputs": [
    {
     "data": {
      "text/plain": [
       "4.4593964120950754e+24"
      ]
     },
     "execution_count": 198,
     "metadata": {},
     "output_type": "execute_result"
    }
   ],
   "source": [
    "calculate_avgerage_mse([2.1946464346355207e+22, 3.0088100351192708e+22, 3.3394748226482341e+23,\n",
    "                            1.318099199355746e+21, 7.5281187532874213e+23, 1.1842732217839136e+25, \n",
    "                            9.858718838473629e+23, 3.3137565695628452e+23, 1.7608654508599521e+25,\n",
    "                            4.7484097141202911e+22, 3.6826961004994901e+23, 4.8512372771319636e+24, \n",
    "                            7.0511133810066368e+23, 5.5623636351524714e+23, 9.8863722612537881e+22,\n",
    "                            2.9085034128627577e+25, 6.9103412422731057e+24, 1.4964526959746178e+23,\n",
    "                            8.3825688972756838e+23, 1.366870201439146e+25])"
   ]
  },
  {
   "cell_type": "markdown",
   "metadata": {
    "collapsed": true
   },
   "source": [
    "# Default, n_iter=5\n",
    "\n",
    "SGDRegressor(alpha=0.0001, average=False, epsilon=0.1, eta0=0.01,\n",
    "       fit_intercept=True, l1_ratio=0.15, learning_rate='invscaling',\n",
    "       loss='squared_loss', n_iter=5, penalty='l2', power_t=0.25,\n",
    "       random_state=None, shuffle=True, verbose=0, warm_start=False)\n",
    "\n",
    "|iter|Mean Squared Error\n",
    "|----|-------------------\n",
    "|1|9.0608243364417497e+23\n",
    "|2|2.1657170129244996e+24\n",
    "|3|3.456287767062235e+25\n",
    "|4|1.1201555082553291e+24\n",
    "|5|1.6149798704697102e+24\n",
    "|6|6.123620375023137e+22\n",
    "|7|1.1895877082604792e+24\n",
    "|8|5.9002263571004682e+23\n",
    "|9|2.4818835044394091e+23\n",
    "|10|1.0885711676440767e+23\n",
    "|11|3.7957578037749712e+24\n",
    "|12|3.8332969603261342e+23\n",
    "|13|3.1451104301402565e+25\n",
    "|14|1.3428685801313598e+24\n",
    "|15|5.0238381396564009e+25\n",
    "|16|6.1027679966148575e+23\n",
    "|17|2.0871057811887365e+25\n",
    "|18|5.8343056570313342e+23\n",
    "|19|5.4589458814602545e+24\n",
    "|20|1.3151808251439505e+23"
   ]
  },
  {
   "cell_type": "code",
   "execution_count": 199,
   "metadata": {
    "collapsed": false
   },
   "outputs": [
    {
     "data": {
      "text/plain": [
       "7.871718771498868e+24"
      ]
     },
     "execution_count": 199,
     "metadata": {},
     "output_type": "execute_result"
    }
   ],
   "source": [
    "calculate_avgerage_mse([9.0608243364417497e+23, 2.1657170129244996e+24, 3.456287767062235e+25, \n",
    "                            1.1201555082553291e+24, 1.6149798704697102e+24, 6.123620375023137e+22,\n",
    "                            1.1895877082604792e+24, 5.9002263571004682e+23, 2.4818835044394091e+23,\n",
    "                            1.0885711676440767e+23, 3.7957578037749712e+24, 3.8332969603261342e+23,\n",
    "                            3.1451104301402565e+25, 1.3428685801313598e+24, 5.0238381396564009e+25,\n",
    "                            6.1027679966148575e+23, 2.0871057811887365e+25, 5.8343056570313342e+23,\n",
    "                            5.4589458814602545e+24, 1.3151808251439505e+23])"
   ]
  },
  {
   "cell_type": "code",
   "execution_count": null,
   "metadata": {
    "collapsed": true
   },
   "outputs": [],
   "source": []
  }
 ],
 "metadata": {
  "anaconda-cloud": {},
  "kernelspec": {
   "display_name": "Python [default]",
   "language": "python",
   "name": "python3"
  },
  "language_info": {
   "codemirror_mode": {
    "name": "ipython",
    "version": 3
   },
   "file_extension": ".py",
   "mimetype": "text/x-python",
   "name": "python",
   "nbconvert_exporter": "python",
   "pygments_lexer": "ipython3",
   "version": "3.5.2"
  }
 },
 "nbformat": 4,
 "nbformat_minor": 1
}
