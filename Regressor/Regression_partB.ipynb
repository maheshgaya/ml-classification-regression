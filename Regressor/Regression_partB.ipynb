{
 "cells": [
  {
   "cell_type": "markdown",
   "metadata": {},
   "source": [
    "@author: Mahesh Gaya\n",
    "\n",
    "@description: project 3 Question 2 part B\n",
    "\n",
    "# Red Wine Quality\n",
    "http://archive.ics.uci.edu/ml/datasets/Wine+Quality\n",
    "\n",
    "Input variables (based on physicochemical tests):\n",
    "\n",
    "|num|description\n",
    "|---|------------\n",
    "|1| fixed acidity\n",
    "|2| volatile acidity\n",
    "|3| citric acid\n",
    "|4|residual sugar\n",
    "|5| chlorides\n",
    "|6|free sulfur dioxide\n",
    "|7|total sulfur dioxide\n",
    "|8|density\n",
    "|9|pH\n",
    "|10|sulphates\n",
    "|11|alcohol\n",
    "\n",
    "Output variable (based on sensory data): \n",
    "\n",
    "   12 - quality (score between 0 and 10)\n",
    "   \n",
    "Columns:\n",
    "\n",
    "['fixed acidity' 'volatile acidity' 'citric acid' 'residual sugar'\n",
    " 'chlorides' 'free sulfur dioxide' 'total sulfur dioxide' 'density' 'pH'\n",
    " 'sulphates' 'alcohol' 'quality']\n"
   ]
  },
  {
   "cell_type": "code",
   "execution_count": 18,
   "metadata": {
    "collapsed": false
   },
   "outputs": [
    {
     "data": {
      "text/plain": [
       "0.38174999999999998"
      ]
     },
     "execution_count": 18,
     "metadata": {},
     "output_type": "execute_result"
    }
   ],
   "source": [
    "import pandas\n",
    "from sklearn.ensemble import RandomForestRegressor\n",
    "from sklearn import model_selection \n",
    "from sklearn.metrics import mean_squared_error\n",
    "\n",
    "wine_data = pandas.read_csv('winequality-red.csv')\n",
    "#print(machine_data)\n",
    "    \n",
    "(train_data, test_data) = model_selection.train_test_split(wine_data,\\\n",
    "test_size = 0.2)\n",
    "#print(machine_data.columns.values)\n",
    "\n",
    "predictors = ['fixed acidity', 'volatile acidity', 'citric acid', 'residual sugar',\\\n",
    " 'chlorides', 'free sulfur dioxide', 'total sulfur dioxide', 'density', 'pH',\\\n",
    " 'sulphates', 'alcohol']\n",
    "\n",
    "regressor = RandomForestRegressor()\n",
    "regressor.fit(train_data[predictors], train_data['quality'])\n",
    "wine_predictions = regressor.predict(test_data[predictors])\n",
    "#print(machine_predictions)\n",
    "mean_squared_error(test_data['quality'], wine_predictions)"
   ]
  },
  {
   "cell_type": "code",
   "execution_count": 46,
   "metadata": {
    "collapsed": true
   },
   "outputs": [],
   "source": [
    "def calculate_avgerage_mse(list):\n",
    "    sum = 0\n",
    "    for item in list:\n",
    "        sum = sum + item\n",
    "    return sum/(len(list))\n",
    "#Test\n",
    "#list = range(0,10)\n",
    "#print(str(calculate_avgerage_accuracy(list)))"
   ]
  },
  {
   "cell_type": "code",
   "execution_count": 137,
   "metadata": {
    "collapsed": false
   },
   "outputs": [
    {
     "data": {
      "image/png": "[encoded data removed]",
      "text/plain": [
       "<matplotlib.figure.Figure at 0x118759550>"
      ]
     },
     "metadata": {},
     "output_type": "display_data"
    }
   ],
   "source": [
    "'''\n",
    "Plot\n",
    "'''\n",
    "import matplotlib.pyplot as plt\n",
    "%matplotlib inline\n",
    "\n",
    "avg_accuracies = [0.379284375, 0.37774921875000006, 0.367118359375, 0.36008159375, \\\n",
    "                  0.35865172265625006, 0.35793999609375005]\n",
    "x_values = [10, 20, 40, 100, 200, 400]\n",
    "\n",
    "plt.plot(x_values, avg_accuracies)\n",
    "\n",
    "plt.xlabel('Number of Epochs')\n",
    "plt.ylabel('Average Mean Squared Error')\n",
    "plt.show()"
   ]
  },
  {
   "cell_type": "code",
   "execution_count": 135,
   "metadata": {
    "collapsed": false
   },
   "outputs": [
    {
     "data": {
      "text/plain": [
       "0.35321806640624998"
      ]
     },
     "execution_count": 135,
     "metadata": {},
     "output_type": "execute_result"
    }
   ],
   "source": [
    "regressor = RandomForestRegressor(n_estimators=400)\n",
    "regressor.fit(train_data[predictors], train_data['quality'])\n",
    "wine_predictions = regressor.predict(test_data[predictors])\n",
    "#print(machine_predictions)\n",
    "mean_squared_error(test_data['quality'], wine_predictions)"
   ]
  },
  {
   "cell_type": "markdown",
   "metadata": {},
   "source": [
    "# n_estimators=400\n",
    "\n",
    "|iter|MSE\n",
    "|1|0.3594724414062499\n",
    "|2|0.35889193359374999\n",
    "|3|0.35661851562499997\n",
    "|4|0.35918279296875005\n",
    "|5|0.352071953125\n",
    "|6|0.35625406250000002\n",
    "|7|0.35819410156249998\n",
    "|8|0.35832861328125004\n",
    "|9|0.35678835937499997\n",
    "|10|0.35925328125\n",
    "|11|0.35707535156249998\n",
    "|12|0.35576808593749998\n",
    "|13|0.36060687500000005\n",
    "|14|0.3567721875\n",
    "|15|0.35945494140624995\n",
    "|16|0.36249142578125004\n",
    "|17|0.36022544921875005\n",
    "|18|0.35987251953125005\n",
    "|19|0.35825896484375003\n",
    "|20|0.35321806640624998"
   ]
  },
  {
   "cell_type": "code",
   "execution_count": 136,
   "metadata": {
    "collapsed": false
   },
   "outputs": [
    {
     "data": {
      "text/plain": [
       "0.35793999609375005"
      ]
     },
     "execution_count": 136,
     "metadata": {},
     "output_type": "execute_result"
    }
   ],
   "source": [
    "calculate_avgerage_mse([0.3594724414062499, 0.35889193359374999, 0.35661851562499997, \n",
    "                       0.35918279296875005, 0.352071953125, 0.35625406250000002, \n",
    "                       0.35819410156249998, 0.35832861328125004, 0.35678835937499997, \n",
    "                       0.35925328125, 0.35707535156249998, 0.35576808593749998,\n",
    "                       0.36060687500000005, 0.3567721875, 0.35945494140624995, \n",
    "                       0.36249142578125004, 0.36022544921875005, 0.35987251953125005,\n",
    "                       0.35825896484375003, 0.35321806640624998])"
   ]
  },
  {
   "cell_type": "markdown",
   "metadata": {},
   "source": [
    "# n_estimators=200\n",
    "\n",
    "|iter|MSE\n",
    "|----|------\n",
    "|1|0.36296164062500003\n",
    "|2|0.35023640624999997\n",
    "|3|0.36315945312500003\n",
    "|4|0.35474898437499996\n",
    "|5|0.36279414062500004\n",
    "|6|0.35603656250000004\n",
    "|7|0.35954265625000004\n",
    "|8|0.35588523437499997\n",
    "|9|0.35978078125000001\n",
    "|10|0.36236445312499999\n",
    "|11|0.35512749999999998\n",
    "|12|0.36447953125000004\n",
    "|13|0.35710023437499994\n",
    "|14|0.36230375000000004\n",
    "|15|0.35082921875000006\n",
    "|16|0.35418562500000006\n",
    "|17|0.35996617187500002\n",
    "|18|0.36019750000000006\n",
    "|19|0.35713453124999994\n",
    "|20|0.36420007812499999"
   ]
  },
  {
   "cell_type": "code",
   "execution_count": 114,
   "metadata": {
    "collapsed": false
   },
   "outputs": [
    {
     "data": {
      "text/plain": [
       "0.35865172265625006"
      ]
     },
     "execution_count": 114,
     "metadata": {},
     "output_type": "execute_result"
    }
   ],
   "source": [
    "calculate_avgerage_mse([0.36296164062500003, 0.35023640624999997, 0.36315945312500003,\n",
    "                       0.35474898437499996, 0.36279414062500004, 0.35603656250000004, \n",
    "                       0.35954265625000004, 0.35588523437499997, 0.35978078125000001,\n",
    "                       0.36236445312499999, 0.35512749999999998, 0.36447953125000004,\n",
    "                       0.35710023437499994, 0.36230375000000004, 0.35082921875000006,\n",
    "                       0.35418562500000006, 0.35996617187500002, 0.36019750000000006,\n",
    "                       0.35713453124999994, 0.36420007812499999])"
   ]
  },
  {
   "cell_type": "markdown",
   "metadata": {},
   "source": [
    "# n_estimators=100\n",
    "|iter|MSE\n",
    "|----|----\n",
    "|1|0.36343906249999997\n",
    "|2|0.35200562500000004\n",
    "|3|0.36806375000000002\n",
    "|4|0.35345500000000002\n",
    "|5|0.35602812500000003\n",
    "|6|0.3628575\n",
    "|7|0.36965312500000003\n",
    "|8|0.35990843750000001\n",
    "|9|0.36616687499999995\n",
    "|10|0.36749093750000006\n",
    "|11|0.36216781250000002\n",
    "|12|0.36348812500000005\n",
    "|13|0.36083375000000001\n",
    "|14|0.35794625000000002\n",
    "|15|0.36071999999999999\n",
    "|16|0.35367968750000001\n",
    "|17|0.35193437500000002\n",
    "|18|0.35442374999999993\n",
    "|19|0.35665750000000002\n",
    "|20|0.3607121875"
   ]
  },
  {
   "cell_type": "code",
   "execution_count": 91,
   "metadata": {
    "collapsed": false
   },
   "outputs": [
    {
     "data": {
      "text/plain": [
       "0.36008159375"
      ]
     },
     "execution_count": 91,
     "metadata": {},
     "output_type": "execute_result"
    }
   ],
   "source": [
    "calculate_avgerage_mse([0.36343906249999997, 0.35200562500000004, 0.36806375000000002,\n",
    "                       0.35345500000000002, 0.35602812500000003, 0.3628575, 0.36965312500000003,\n",
    "                       0.35990843750000001, 0.36616687499999995, 0.36749093750000006,\n",
    "                       0.36216781250000002, 0.36348812500000005, 0.36083375000000001,\n",
    "                       0.35794625000000002, 0.36071999999999999, 0.35367968750000001, \n",
    "                       0.35193437500000002, 0.35442374999999993, 0.35665750000000002,\n",
    "                       0.3607121875])"
   ]
  },
  {
   "cell_type": "markdown",
   "metadata": {},
   "source": [
    "# n_estimators=40\n",
    "\n",
    "|iter|Mean Squared Error\n",
    "|----|----------------\n",
    "|1|0.39781250000000001\n",
    "|2|0.35321874999999997\n",
    "|3|0.36528125000000006\n",
    "|4|0.35546289062499997\n",
    "|5|0.37098828125\n",
    "|6|0.36995898437500008\n",
    "|7|0.36641406249999997\n",
    "|8|0.36481835937499996\n",
    "|9|0.36102343749999999\n",
    "|10|0.35391015625\n",
    "|11|0.38379882812499994\n",
    "|12|0.38619921874999996\n",
    "|13|0.36616210937499999\n",
    "|14|0.36055273437500002\n",
    "|15|0.38222265625000001\n",
    "|16|0.36812890625\n",
    "|17|0.354201171875\n",
    "|18|0.36962304687500003\n",
    "|19|0.347935546875\n",
    "|20|0.36465429687500006"
   ]
  },
  {
   "cell_type": "code",
   "execution_count": 69,
   "metadata": {
    "collapsed": false
   },
   "outputs": [
    {
     "data": {
      "text/plain": [
       "0.367118359375"
      ]
     },
     "execution_count": 69,
     "metadata": {},
     "output_type": "execute_result"
    }
   ],
   "source": [
    "calculate_avgerage_mse([0.39781250000000001, 0.35321874999999997, 0.36528125000000006, \n",
    "                       0.35546289062499997, 0.37098828125, 0.36995898437500008,\n",
    "                       0.36641406249999997, 0.36481835937499996, 0.36102343749999999, \n",
    "                       0.35391015625, 0.38379882812499994, 0.38619921874999996,\n",
    "                       0.36616210937499999, 0.36055273437500002, 0.38222265625000001,\n",
    "                       0.36812890625, 0.354201171875, 0.36962304687500003, \n",
    "                       0.347935546875, 0.36465429687500006])"
   ]
  },
  {
   "cell_type": "markdown",
   "metadata": {},
   "source": [
    "# n_estimators=20\n",
    "\n",
    "|iter|Mean Squared Error\n",
    "|----|------------\n",
    "|1|0.38110937499999997\n",
    "|2|0.37227343749999997\n",
    "|3|0.38130468749999996\n",
    "|4|0.36192968749999999\n",
    "|5|0.37321093750000001\n",
    "|6|0.357828125\n",
    "|7|0.38421093750000002\n",
    "|8|0.35067187500000002\n",
    "|9|0.36291406250000002\n",
    "|10|0.37099218750000007\n",
    "|11|0.36584375000000008\n",
    "|12|0.38343749999999999\n",
    "|13|0.38663281249999992\n",
    "|14|0.366140625\n",
    "|15|0.39614062500000002\n",
    "|16|0.39478906250000001\n",
    "|17|0.39102343750000002\n",
    "|18|0.40335156249999998\n",
    "|19|0.37336718749999998\n",
    "|20|0.39781250000000001"
   ]
  },
  {
   "cell_type": "code",
   "execution_count": 48,
   "metadata": {
    "collapsed": false
   },
   "outputs": [
    {
     "data": {
      "text/plain": [
       "0.37774921875000006"
      ]
     },
     "execution_count": 48,
     "metadata": {},
     "output_type": "execute_result"
    }
   ],
   "source": [
    "calculate_avgerage_mse([0.38110937499999997, 0.37227343749999997, 0.38130468749999996,\n",
    "                       0.36192968749999999, 0.37321093750000001, 0.357828125, \n",
    "                       0.38421093750000002, 0.35067187500000002, 0.36291406250000002,\n",
    "                       0.37099218750000007, 0.36584375000000008, 0.38343749999999999,\n",
    "                       0.38663281249999992, 0.366140625, 0.39614062500000002, \n",
    "                       0.39478906250000001, 0.39102343750000002, 0.40335156249999998,\n",
    "                       0.37336718749999998, 0.39781250000000001])"
   ]
  },
  {
   "cell_type": "markdown",
   "metadata": {},
   "source": [
    "# Default, n_estimators=10\n",
    "\n",
    "RandomForestRegressor(bootstrap=True, criterion='mse', max_depth=None,\n",
    "           max_features='auto', max_leaf_nodes=None,\n",
    "           min_impurity_split=1e-07, min_samples_leaf=1,\n",
    "           min_samples_split=2, min_weight_fraction_leaf=0.0,\n",
    "           n_estimators=10, n_jobs=1, oob_score=False, random_state=None,\n",
    "           verbose=0, warm_start=False)\n",
    "\n",
    "\n",
    "|iter|Mean Squared Error\n",
    "|----|------------------\n",
    "|1|0.36446875000000001\n",
    "|2|0.36934374999999997\n",
    "|3|0.33646874999999998\n",
    "|4|0.34924999999999995\n",
    "|5|0.30062499999999998\n",
    "|6|0.37118749999999995\n",
    "|7|0.43346875000000001\n",
    "|8|0.37765624999999997\n",
    "|9|0.38006250000000003\n",
    "|10|0.31534374999999998\n",
    "|11|0.39056250000000003\n",
    "|12|0.36275000000000002\n",
    "|13|0.40312500000000001\n",
    "|14|0.40615625\n",
    "|15|0.38174999999999998\n",
    "|16|0.38024999999999998\n",
    "|17|0.41665624999999995\n",
    "|18|0.39209374999999996\n",
    "|19|0.41234374999999995\n",
    "|20|0.44212500000000005"
   ]
  },
  {
   "cell_type": "code",
   "execution_count": 47,
   "metadata": {
    "collapsed": false
   },
   "outputs": [
    {
     "data": {
      "text/plain": [
       "0.379284375"
      ]
     },
     "execution_count": 47,
     "metadata": {},
     "output_type": "execute_result"
    }
   ],
   "source": [
    "calculate_avgerage_mse([0.36446875000000001, 0.36934374999999997, 0.33646874999999998,\n",
    "                            0.34924999999999995, 0.30062499999999998, 0.37118749999999995, \n",
    "                            0.43346875000000001, 0.37765624999999997, 0.38006250000000003,\n",
    "                            0.31534374999999998, 0.39056250000000003, 0.36275000000000002,\n",
    "                            0.40312500000000001, 0.40615625, 0.38174999999999998, \n",
    "                            0.38024999999999998, 0.41665624999999995, 0.39209374999999996,\n",
    "                            0.41234374999999995, 0.44212500000000005])"
   ]
  },
  {
   "cell_type": "code",
   "execution_count": null,
   "metadata": {
    "collapsed": true
   },
   "outputs": [],
   "source": []
  }
 ],
 "metadata": {
  "anaconda-cloud": {},
  "kernelspec": {
   "display_name": "Python [default]",
   "language": "python",
   "name": "python3"
  },
  "language_info": {
   "codemirror_mode": {
    "name": "ipython",
    "version": 3
   },
   "file_extension": ".py",
   "mimetype": "text/x-python",
   "name": "python",
   "nbconvert_exporter": "python",
   "pygments_lexer": "ipython3",
   "version": "3.5.2"
  }
 },
 "nbformat": 4,
 "nbformat_minor": 1
}
