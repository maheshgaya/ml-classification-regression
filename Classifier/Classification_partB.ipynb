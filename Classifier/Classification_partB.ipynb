{
 "cells": [
  {
   "cell_type": "markdown",
   "metadata": {},
   "source": [
    "-----------------------------------------------------\n",
    "# Indoor localization data \n",
    "http://archive.ics.uci.edu/ml/datasets/UJIIndoorLoc\n",
    "\n",
    "## Classification Problem\n",
    "\n",
    "#### Predict `actual building` and `floor identification`\n",
    "-----------------------------------------------------\n",
    "\n",
    "|Attribute |Information\n",
    "|----------|-----------\n",
    "|Attribute 001 (WAP001)| Intensity value for WAP001. Negative integer values from -104 to 0 and +100. Positive value 100 used if WAP001 was not detected.\n",
    "|....|\n",
    "|Attribute 520 (WAP520)| Intensity value for WAP520. Negative integer values from -104 to 0 and +100. Positive Vvalue 100 used if WAP520 was not detected.\n",
    "|Attribute 521 (Longitude)| Longitude. Negative real values from -7695.9387549299299000 to -7299.786516730871000\n",
    "|Attribute 522 (Latitude)| Latitude. Positive real values from 4864745.7450159714 to 4865017.3646842018.\n",
    "|Attribute 523 (Floor)| Altitude in floors inside the building. Integer values from 0 to 4.\n",
    "|Attribute 524 (BuildingID)| ID to identify the building. Measures were taken in three different buildings. Categorical integer values from 0 to 2.\n",
    "|Attribute 525 (SpaceID)| Internal ID number to identify the Space (office, corridor, classroom) where the capture was taken. Categorical integer values.\n",
    "|Attribute 526 (RelativePosition)| Relative position with respect to the Space (1 - Inside, 2 - Outside in Front of the door). Categorical integer values.\n",
    "|Attribute 527 (UserID)| User identifier (see below). Categorical integer values.\n",
    "|Attribute 528 (PhoneID)| Android device identifier (see below). Categorical integer values.\n",
    "|Attribute 529 (Timestamp)| UNIX Time when the capture was taken. Integer value.\n",
    "\n",
    "\n",
    "---------------------------------------------\n",
    "\n",
    "| UserID | Anonymized user | Height (cm)  \n",
    "|:---|:------------|:--------\n",
    "|0 | USER0000 (Validation User)| N/A \n",
    "|1 | USER0001 | 170\n",
    "|2 | USER0002 | 176\n",
    "|3 | USER0003 | 172\n",
    "|4 | USER0004 | 174\n",
    "|5 | USER0005 | 184\n",
    "|6 | USER0006 | 180\n",
    "|7 | USER0007 | 160\n",
    "|8 | USER0008 | 176\n",
    "|9 | USER0009 | 177\n",
    "|10| USER0010 | 186\n",
    "|11| USER0011 | 176\n",
    "|12| USER0012 | 158\n",
    "|13| USER0013 | 174\n",
    "|14| USER0014 | 173\n",
    "|15| USER0015 | 174\n",
    "|16| USER0016 | 171\n",
    "|17| USER0017 | 166\n",
    "|18| USER0018 | 162\n",
    "\n",
    "----------------------------------------------\n",
    "\n",
    "|PhoneID |Android Device |Android Ver. |UserID\n",
    "|--------|---------------|-------------|-------\n",
    "|0  | Celkon A27  | 4.0.4(6577) | 0\n",
    "|1  | GT-I8160    | 2.3.6       | 8\n",
    "|2  | GT-I8160    | 4.1.2       | 0\n",
    "|3  | GT-I9100    | 4.0.4       | 5\n",
    "|4  | GT-I9300    | 4.1.2       | 0\n",
    "|5  | GT-I9505    | 4.2.2       | 0\n",
    "|6  | GT-S5360    | 2.3.6       | 7\n",
    "|7  | GT-S6500    | 2.3.6       | 14\n",
    "|8  | Galaxy Nexus | 4.2.2      | 10\n",
    "|9  | Galaxy Nexus | 4.3        | 0\n",
    "|10 | HTC Desire HD| 2.3.5      | 18\n",
    "|11 | HTC One      | 4.1.2      | 15\n",
    "|12 | HTC One      | 4.2.2      | 0\n",
    "|13 | HTC Wildfire S | 2.3.5    | 0,11\n",
    "|14 | LT22i          | 4.0.4    | 0,1,9,16\n",
    "|15 | LT22i          | 4.1.2    | 0\n",
    "|16 | LT26i          | 4.0.4    | 3\n",
    "|17 | M1005D         | 4.0.4    | 13\n",
    "|18 | MT11i          | 2.3.4    | 4\n",
    "|19 | Nexus 4        | 4.2.2    | 6\n",
    "|20 | Nexus 4        | 4.3      | 0\n",
    "|21 | Nexus S        | 4.1.2    | 0\n",
    "|22 | Orange Monte Carlo | 2.3.5 | 17\n",
    "|23 | Transformer TF101  | 4.0.3 | 2\n",
    "|24 |bq Curie        | 4.1.1    | 12\n",
    "\n",
    "----------------------------------------------"
   ]
  },
  {
   "cell_type": "code",
   "execution_count": 28,
   "metadata": {
    "collapsed": false
   },
   "outputs": [
    {
     "name": "stdout",
     "output_type": "stream",
     "text": [
      "0.83798379838\n"
     ]
    }
   ],
   "source": [
    "\"\"\"\n",
    " PART 1 \n",
    "\"\"\"\n",
    "import pandas\n",
    "import numpy\n",
    "from sklearn.ensemble import RandomForestClassifier\n",
    "from sklearn import model_selection\n",
    "from sklearn import metrics\n",
    "'''\n",
    " Read the training data\n",
    "'''\n",
    "train_data = pandas.read_csv('./UJIndoorLoc/trainingData.csv')\n",
    "#print(train_data)\n",
    "'''\n",
    "Read the test data (Validation data)\n",
    "'''\n",
    "test_data = pandas.read_csv('./UJIndoorLoc/validationData.csv')\n",
    "#print(test_data)\n",
    "\n",
    "'''\n",
    "Predictors\n",
    "'''\n",
    "all_columns = train_data.columns #gets all the columns\n",
    "predictors = all_columns[:520].values.tolist() #truncate only the WAPxxx\n",
    "#print(predictors)\n",
    "columns_to_predict = all_columns[522:524].values.tolist() #get Floor and BuildingID\n",
    "#print(columns_to_predict)\n",
    "#Predicting Floor\n",
    "'''\n",
    "Create an instance of the RandomForestClassifier\n",
    "'''\n",
    "classifier = RandomForestClassifier()\n",
    "\n",
    "'''\n",
    "Fit the data to predict floor\n",
    "'''\n",
    "classifier.fit(train_data[predictors], train_data[columns_to_predict[0]])\n",
    "\n",
    "'''\n",
    "Default Predictions\n",
    "'''\n",
    "indoor_predictions = classifier.predict(test_data[predictors])\n",
    "print(metrics.accuracy_score(test_data[columns_to_predict[0]],\\\n",
    "indoor_predictions))"
   ]
  },
  {
   "cell_type": "code",
   "execution_count": 26,
   "metadata": {
    "collapsed": true
   },
   "outputs": [],
   "source": [
    "def calculate_avgerage_accuracy(list):\n",
    "    sum = 0\n",
    "    for item in list:\n",
    "        sum = sum + item\n",
    "    return sum/(len(list))\n",
    "#Test\n",
    "#list = range(0,10)\n",
    "#print(str(calculate_avgerage_accuracy(list)))"
   ]
  },
  {
   "cell_type": "markdown",
   "metadata": {},
   "source": [
    "### Default Classifier\n",
    "RandomForestClassifier(bootstrap=True, class_weight=None, criterion='gini',\n",
    "            max_depth=None, max_features='auto', max_leaf_nodes=None,\n",
    "            min_impurity_split=1e-07, min_samples_leaf=1,\n",
    "            min_samples_split=2, min_weight_fraction_leaf=0.0,\n",
    "            n_estimators=10, n_jobs=1, oob_score=False, random_state=None,\n",
    "            verbose=0, warm_start=False)"
   ]
  },
  {
   "cell_type": "markdown",
   "metadata": {},
   "source": [
    "# Default Values (n_estimators=10)\n",
    "Timestamp: 7:11 PM Oct 30, 2016\n",
    "\n",
    "|num| accuracy\n",
    "|---|-----------\n",
    "|1|0.830783078308\n",
    "|2|0.836183618362\n",
    "|3|0.839783978398\n",
    "|4|0.836183618362\n",
    "|5|0.828082808281\n",
    "|6|0.836183618362\n",
    "|7|0.829882988299\n",
    "|8|0.832583258326\n",
    "|9|0.845184518452\n",
    "|10|0.84698469847\n",
    "|11|0.829882988299\n",
    "|12|0.843384338434\n",
    "|13|0.834383438344\n",
    "|14|0.830783078308\n",
    "|15|0.827182718272\n",
    "|16|0.839783978398\n",
    "|17|0.83798379838\n",
    "|18|0.833483348335\n",
    "|19|0.836183618362\n",
    "|20|0.83798379838"
   ]
  },
  {
   "cell_type": "code",
   "execution_count": 29,
   "metadata": {
    "collapsed": false
   },
   "outputs": [
    {
     "data": {
      "text/plain": [
       "0.8356435643566"
      ]
     },
     "execution_count": 29,
     "metadata": {},
     "output_type": "execute_result"
    }
   ],
   "source": [
    "calculate_avgerage_accuracy([0.830783078308, 0.836183618362, 0.839783978398, 0.836183618362, 0.828082808281,\\\n",
    "                            0.836183618362, 0.829882988299, 0.832583258326, 0.845184518452, 0.84698469847,\\\n",
    "                            0.829882988299, 0.843384338434, 0.834383438344, 0.830783078308, 0.827182718272,\\\n",
    "                            0.839783978398, 0.83798379838, 0.833483348335, 0.836183618362, 0.83798379838])"
   ]
  },
  {
   "cell_type": "code",
   "execution_count": 118,
   "metadata": {
    "collapsed": false
   },
   "outputs": [
    {
     "name": "stdout",
     "output_type": "stream",
     "text": [
      "0.875787578758\n"
     ]
    }
   ],
   "source": [
    "'''\n",
    "Create an instance of the RandomForestClassifier\n",
    "'''\n",
    "classifier = RandomForestClassifier(n_estimators=200)\n",
    "\n",
    "'''\n",
    "Fit the data to predict floor\n",
    "'''\n",
    "classifier.fit(train_data[predictors], train_data[columns_to_predict[0]])\n",
    "\n",
    "'''\n",
    "Predictions\n",
    "'''\n",
    "\n",
    "indoor_predictions = classifier.predict(test_data[predictors])\n",
    "print(metrics.accuracy_score(test_data[columns_to_predict[0]],\\\n",
    "indoor_predictions))"
   ]
  },
  {
   "cell_type": "code",
   "execution_count": 126,
   "metadata": {
    "collapsed": false
   },
   "outputs": [
    {
     "data": {
      "image/png": "[encoded data removed]",
      "text/plain": [
       "<matplotlib.figure.Figure at 0x1290c0ef0>"
      ]
     },
     "metadata": {},
     "output_type": "display_data"
    }
   ],
   "source": [
    "'''\n",
    "Plot\n",
    "'''\n",
    "import matplotlib.pyplot as plt\n",
    "%matplotlib inline\n",
    "\n",
    "avg_accuracies = [0.8356435643566, 0.8568856885690002, 0.8675967596761002, 0.8724572457247002, 0.8748424842485502]\n",
    "x_values = [10, 20, 40, 80, 200]\n",
    "axes = [10, 200, 0.82, 0.88]\n",
    "\n",
    "\n",
    "plt.plot(x_values, avg_accuracies)\n",
    "plt.axis(axes)\n",
    "plt.xlabel('n_estimators')\n",
    "plt.ylabel('average accuracy')\n",
    "plt.show()"
   ]
  },
  {
   "cell_type": "markdown",
   "metadata": {},
   "source": [
    "# n_estimators=200\n",
    "Timestamp: 7:49 PM Oct 30, 2016\n",
    "\n",
    "|num|accuracy\n",
    "|---|--------\n",
    "|1|0.87398739874\n",
    "|2|0.872187218722\n",
    "|3|0.873087308731\n",
    "|4|0.87398739874\n",
    "|5|0.875787578758\n",
    "|6|0.877587758776\n",
    "|7|0.869486948695\n",
    "|8|0.876687668767\n",
    "|9|0.873087308731\n",
    "|10|0.87398739874\n",
    "|11|0.87398739874\n",
    "|12|0.879387938794\n",
    "|13|0.879387938794\n",
    "|14|0.873087308731\n",
    "|15|0.874887488749\n",
    "|16|0.871287128713\n",
    "|17|0.875787578758\n",
    "|18|0.876687668767\n",
    "|19|0.876687668767\n",
    "|20|0.875787578758"
   ]
  },
  {
   "cell_type": "code",
   "execution_count": 119,
   "metadata": {
    "collapsed": false
   },
   "outputs": [
    {
     "data": {
      "text/plain": [
       "0.8748424842485502"
      ]
     },
     "execution_count": 119,
     "metadata": {},
     "output_type": "execute_result"
    }
   ],
   "source": [
    "calculate_avgerage_accuracy([0.87398739874, 0.872187218722, 0.873087308731, 0.87398739874, 0.875787578758,\\\n",
    "                            0.877587758776, 0.869486948695, 0.876687668767, 0.873087308731, 0.87398739874,\\\n",
    "                            0.87398739874, 0.879387938794, 0.879387938794, 0.873087308731, 0.874887488749,\\\n",
    "                            0.871287128713, 0.875787578758, 0.876687668767, 0.876687668767, 0.875787578758])"
   ]
  },
  {
   "cell_type": "markdown",
   "metadata": {},
   "source": [
    "# n_estimators=80\n",
    "Timestamp: 7:41 PM Oct 30, 2016\n",
    "\n",
    "|num|accuracy\n",
    "|---|--------\n",
    "|1|0.875787578758\n",
    "|2|0.87398739874\n",
    "|3|0.866786678668\n",
    "|4|0.871287128713\n",
    "|5|0.878487848785\n",
    "|6|0.871287128713\n",
    "|7|0.867686768677\n",
    "|8|0.874887488749\n",
    "|9|0.870387038704\n",
    "|10|0.876687668767\n",
    "|11|0.878487848785\n",
    "|12|0.87398739874\n",
    "|13|0.869486948695\n",
    "|14|0.866786678668\n",
    "|15|0.871287128713\n",
    "|16|0.874887488749\n",
    "|17|0.87398739874\n",
    "|18|0.869486948695\n",
    "|19|0.874887488749\n",
    "|20|0.868586858686"
   ]
  },
  {
   "cell_type": "code",
   "execution_count": 95,
   "metadata": {
    "collapsed": false
   },
   "outputs": [
    {
     "data": {
      "text/plain": [
       "0.8724572457247002"
      ]
     },
     "execution_count": 95,
     "metadata": {},
     "output_type": "execute_result"
    }
   ],
   "source": [
    "calculate_avgerage_accuracy([0.875787578758, 0.87398739874, 0.866786678668, 0.871287128713, 0.878487848785,\\\n",
    "                            0.871287128713, 0.867686768677, 0.874887488749, 0.870387038704, 0.876687668767,\\\n",
    "                            0.878487848785, 0.87398739874, 0.869486948695, 0.866786678668, 0.871287128713,\\\n",
    "                            0.874887488749, 0.87398739874, 0.869486948695, 0.874887488749, 0.868586858686])"
   ]
  },
  {
   "cell_type": "markdown",
   "metadata": {},
   "source": [
    "# n_estimators=40\n",
    "Timestamp: 7:35 PM Oct 30, 2016\n",
    "\n",
    "|num|accuracy\n",
    "|---|--------\n",
    "|1|0.86498649865\n",
    "|2|0.870387038704\n",
    "|3|0.869486948695\n",
    "|4|0.856885688569\n",
    "|5|0.857785778578\n",
    "|6|0.862286228623\n",
    "|7|0.867686768677\n",
    "|8|0.871287128713\n",
    "|9|0.869486948695\n",
    "|10|0.870387038704\n",
    "|11|0.872187218722\n",
    "|12|0.862286228623\n",
    "|13|0.867686768677\n",
    "|14|0.872187218722\n",
    "|15|0.869486948695\n",
    "|16|0.877587758776\n",
    "|17|0.860486048605\n",
    "|18|0.870387038704\n",
    "|19|0.867686768677\n",
    "|20|0.871287128713"
   ]
  },
  {
   "cell_type": "code",
   "execution_count": 72,
   "metadata": {
    "collapsed": false
   },
   "outputs": [
    {
     "data": {
      "text/plain": [
       "0.8675967596761002"
      ]
     },
     "execution_count": 72,
     "metadata": {},
     "output_type": "execute_result"
    }
   ],
   "source": [
    "calculate_avgerage_accuracy([0.86498649865, 0.870387038704, 0.869486948695, 0.856885688569, 0.857785778578,\\\n",
    "                            0.862286228623, 0.867686768677, 0.871287128713, 0.869486948695, 0.870387038704,\\\n",
    "                            0.872187218722, 0.862286228623, 0.867686768677, 0.872187218722, 0.869486948695,\\\n",
    "                            0.877587758776, 0.860486048605, 0.870387038704, 0.867686768677, 0.871287128713])"
   ]
  },
  {
   "cell_type": "markdown",
   "metadata": {},
   "source": [
    "# n_estimators=20\n",
    "Timestamp: 7:28 PM, Oct 30, 2016\n",
    "\n",
    "|num|accuracy\n",
    "|---|--------\n",
    "|1|0.85598559856\n",
    "|2|0.858685868587\n",
    "|3|0.854185418542\n",
    "|4|0.852385238524\n",
    "|5|0.846084608461\n",
    "|6|0.858685868587\n",
    "|7|0.861386138614\n",
    "|8|0.858685868587\n",
    "|9|0.856885688569\n",
    "|10|0.865886588659\n",
    "|11|0.860486048605\n",
    "|12|0.858685868587\n",
    "|13|0.865886588659\n",
    "|14|0.860486048605\n",
    "|15|0.846084608461\n",
    "|16|0.863186318632\n",
    "|17|0.850585058506\n",
    "|18|0.85598559856\n",
    "|19|0.863186318632\n",
    "|20|0.844284428443"
   ]
  },
  {
   "cell_type": "code",
   "execution_count": 51,
   "metadata": {
    "collapsed": false
   },
   "outputs": [
    {
     "data": {
      "text/plain": [
       "0.8568856885690002"
      ]
     },
     "execution_count": 51,
     "metadata": {},
     "output_type": "execute_result"
    }
   ],
   "source": [
    "calculate_avgerage_accuracy([0.85598559856, 0.858685868587, 0.854185418542, 0.852385238524, 0.846084608461,\\\n",
    "                            0.858685868587, 0.861386138614, 0.858685868587, 0.856885688569, 0.865886588659,\\\n",
    "                            0.860486048605, 0.858685868587, 0.865886588659, 0.860486048605, 0.846084608461,\\\n",
    "                            0.863186318632, 0.850585058506, 0.85598559856, 0.863186318632, 0.844284428443])"
   ]
  },
  {
   "cell_type": "code",
   "execution_count": null,
   "metadata": {
    "collapsed": true
   },
   "outputs": [],
   "source": []
  }
 ],
 "metadata": {
  "anaconda-cloud": {},
  "kernelspec": {
   "display_name": "Python [default]",
   "language": "python",
   "name": "python3"
  },
  "language_info": {
   "codemirror_mode": {
    "name": "ipython",
    "version": 3
   },
   "file_extension": ".py",
   "mimetype": "text/x-python",
   "name": "python",
   "nbconvert_exporter": "python",
   "pygments_lexer": "ipython3",
   "version": "3.5.2"
  }
 },
 "nbformat": 4,
 "nbformat_minor": 1
}
