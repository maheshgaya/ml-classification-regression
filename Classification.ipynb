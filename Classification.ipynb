{
 "cells": [
  {
   "cell_type": "markdown",
   "metadata": {},
   "source": [
    "-----------------------------------------------------\n",
    "# Indoor localization data \n",
    "http://archive.ics.uci.edu/ml/datasets/UJIIndoorLoc\n",
    "\n",
    "## Classification Problem\n",
    "\n",
    "#### Predict `actual building` and `floor identification`\n",
    "-----------------------------------------------------\n",
    "\n",
    "|Attribute |Information\n",
    "|----------|-----------\n",
    "|Attribute 001 (WAP001)| Intensity value for WAP001. Negative integer values from -104 to 0 and +100. Positive value 100 used if WAP001 was not detected.\n",
    "|....|\n",
    "|Attribute 520 (WAP520)| Intensity value for WAP520. Negative integer values from -104 to 0 and +100. Positive Vvalue 100 used if WAP520 was not detected.\n",
    "|Attribute 521 (Longitude)| Longitude. Negative real values from -7695.9387549299299000 to -7299.786516730871000\n",
    "|Attribute 522 (Latitude)| Latitude. Positive real values from 4864745.7450159714 to 4865017.3646842018.\n",
    "|Attribute 523 (Floor)| Altitude in floors inside the building. Integer values from 0 to 4.\n",
    "|Attribute 524 (BuildingID)| ID to identify the building. Measures were taken in three different buildings. Categorical integer values from 0 to 2.\n",
    "|Attribute 525 (SpaceID)| Internal ID number to identify the Space (office, corridor, classroom) where the capture was taken. Categorical integer values.\n",
    "|Attribute 526 (RelativePosition)| Relative position with respect to the Space (1 - Inside, 2 - Outside in Front of the door). Categorical integer values.\n",
    "|Attribute 527 (UserID)| User identifier (see below). Categorical integer values.\n",
    "|Attribute 528 (PhoneID)| Android device identifier (see below). Categorical integer values.\n",
    "|Attribute 529 (Timestamp)| UNIX Time when the capture was taken. Integer value.\n",
    "\n",
    "\n",
    "---------------------------------------------\n",
    "\n",
    "| UserID | Anonymized user | Height (cm)  \n",
    "|:---|:------------|:--------\n",
    "|0 | USER0000 (Validation User)| N/A \n",
    "|1 | USER0001 | 170\n",
    "|2 | USER0002 | 176\n",
    "|3 | USER0003 | 172\n",
    "|4 | USER0004 | 174\n",
    "|5 | USER0005 | 184\n",
    "|6 | USER0006 | 180\n",
    "|7 | USER0007 | 160\n",
    "|8 | USER0008 | 176\n",
    "|9 | USER0009 | 177\n",
    "|10| USER0010 | 186\n",
    "|11| USER0011 | 176\n",
    "|12| USER0012 | 158\n",
    "|13| USER0013 | 174\n",
    "|14| USER0014 | 173\n",
    "|15| USER0015 | 174\n",
    "|16| USER0016 | 171\n",
    "|17| USER0017 | 166\n",
    "|18| USER0018 | 162\n",
    "\n",
    "----------------------------------------------\n",
    "\n",
    "|PhoneID |Android Device |Android Ver. |UserID\n",
    "|--------|---------------|-------------|-------\n",
    "|0  | Celkon A27  | 4.0.4(6577) | 0\n",
    "|1  | GT-I8160    | 2.3.6       | 8\n",
    "|2  | GT-I8160    | 4.1.2       | 0\n",
    "|3  | GT-I9100    | 4.0.4       | 5\n",
    "|4  | GT-I9300    | 4.1.2       | 0\n",
    "|5  | GT-I9505    | 4.2.2       | 0\n",
    "|6  | GT-S5360    | 2.3.6       | 7\n",
    "|7  | GT-S6500    | 2.3.6       | 14\n",
    "|8  | Galaxy Nexus | 4.2.2      | 10\n",
    "|9  | Galaxy Nexus | 4.3        | 0\n",
    "|10 | HTC Desire HD| 2.3.5      | 18\n",
    "|11 | HTC One      | 4.1.2      | 15\n",
    "|12 | HTC One      | 4.2.2      | 0\n",
    "|13 | HTC Wildfire S | 2.3.5    | 0,11\n",
    "|14 | LT22i          | 4.0.4    | 0,1,9,16\n",
    "|15 | LT22i          | 4.1.2    | 0\n",
    "|16 | LT26i          | 4.0.4    | 3\n",
    "|17 | M1005D         | 4.0.4    | 13\n",
    "|18 | MT11i          | 2.3.4    | 4\n",
    "|19 | Nexus 4        | 4.2.2    | 6\n",
    "|20 | Nexus 4        | 4.3      | 0\n",
    "|21 | Nexus S        | 4.1.2    | 0\n",
    "|22 | Orange Monte Carlo | 2.3.5 | 17\n",
    "|23 | Transformer TF101  | 4.0.3 | 2\n",
    "|24 |bq Curie        | 4.1.1    | 12\n",
    "\n",
    "----------------------------------------------"
   ]
  },
  {
   "cell_type": "code",
   "execution_count": 72,
   "metadata": {
    "collapsed": false
   },
   "outputs": [
    {
     "name": "stdout",
     "output_type": "stream",
     "text": [
      "0.425742574257\n"
     ]
    }
   ],
   "source": [
    "\"\"\"\n",
    " PART 1 \n",
    "\"\"\"\n",
    "import pandas as pd\n",
    "import numpy as np\n",
    "from sklearn.linear_model import SGDClassifier \n",
    "from sklearn import model_selection\n",
    "from sklearn import metrics\n",
    "'''\n",
    " Read the training data\n",
    "'''\n",
    "train_data = pandas.read_csv('./UJIndoorLoc/trainingData.csv')\n",
    "#print(train_data)\n",
    "'''\n",
    "Read the test data (Validation data)\n",
    "'''\n",
    "test_data = pandas.read_csv('./UJIndoorLoc/validationData.csv')\n",
    "#print(test_data)\n",
    "\n",
    "'''\n",
    "Predictors\n",
    "'''\n",
    "all_columns = train_data.columns #gets all the columns\n",
    "predictors = all_columns[:520].values.tolist() #truncate only the WAPxxx\n",
    "#print(predictors)\n",
    "columns_to_predict = all_columns[522:524].values.tolist() #get Floor and BuildingID\n",
    "#print(columns_to_predict)\n",
    "#Predicting Floor\n",
    "'''\n",
    "Create an instance of the SGDClassifier\n",
    "'''\n",
    "classifier = SGDClassifier()\n",
    "\n",
    "'''\n",
    "Fit the data to predict floor\n",
    "'''\n",
    "classifier.fit(train_data[predictors], train_data[columns_to_predict[0]])\n",
    "\n",
    "'''\n",
    "Predictions\n",
    "'''\n",
    "\n",
    "indoor_predictions = classifier.predict(test_data[predictors])\n",
    "print(metrics.accuracy_score(test_data[columns_to_predict[0]],\\\n",
    "indoor_predictions))\n"
   ]
  },
  {
   "cell_type": "markdown",
   "metadata": {},
   "source": [
    "|num | accuracy\n",
    "|----|---------\n",
    "|1|0.636363636364\n",
    "|2|0.505850585059\n",
    "|3|0.63096309631\n",
    "|4|0.677767776778\n",
    "|5|0.700270027003\n",
    "|6|0.576057605761\n",
    "|7|0.711071107111\n",
    "|8|0.711071107111\n",
    "|9|0.61296129613\n",
    "|10|0.54095409541\n",
    "|11|0.688568856886\n",
    "|12|0.639063906391\n",
    "|13|0.508550855086\n",
    "|14|0.667866786679\n",
    "|15|0.481548154815\n",
    "|16|0.727272727273\n",
    "|17|0.496849684968\n",
    "|18|0.706570657066\n",
    "|19|0.700270027003\n",
    "|20|0.739873987399\n",
    "|21|0.614761476148\n",
    "|22|0.564356435644\n",
    "|23|0.558055805581\n",
    "|24|0.644464446445\n",
    "|25|0.425742574257"
   ]
  },
  {
   "cell_type": "code",
   "execution_count": 132,
   "metadata": {
    "collapsed": false
   },
   "outputs": [],
   "source": [
    "def calculate_avgerage_accuracy(list):\n",
    "    sum = 0\n",
    "    for item in list:\n",
    "        sum = sum + item\n",
    "    return sum/(len(list))\n",
    "#Test\n",
    "#list = range(0,10)\n",
    "#print(str(calculate_avgerage_accuracy(list)))"
   ]
  },
  {
   "cell_type": "markdown",
   "metadata": {},
   "source": [
    "### Columns to predict\n",
    "Columns_to_predict = [\"FLOOR\", \"BUILDINGID\"]\n",
    "\n",
    "### Default:\n",
    "SGDClassifier(alpha=0.0001, average=False, class_weight=None, epsilon=0.1,\n",
    "       eta0=0.0, fit_intercept=True, l1_ratio=0.15,\n",
    "       learning_rate='optimal', loss='hinge', n_iter=5, n_jobs=1,\n",
    "       penalty='l2', power_t=0.5, random_state=None, shuffle=True,\n",
    "       verbose=0, warm_start=False)\n",
    "       \n",
    "\n"
   ]
  },
  {
   "cell_type": "code",
   "execution_count": 223,
   "metadata": {
    "collapsed": false
   },
   "outputs": [
    {
     "name": "stdout",
     "output_type": "stream",
     "text": [
      "0.708370837084\n"
     ]
    }
   ],
   "source": [
    "'''\n",
    "Create an instance of the SGDClassifier\n",
    "'''\n",
    "classifier = SGDClassifier(alpha=0.5, n_jobs=-1, n_iter=20)\n",
    "\n",
    "'''\n",
    "Fit the data to predict floor\n",
    "'''\n",
    "classifier.fit(train_data[predictors], train_data[columns_to_predict[0]])\n",
    "\n",
    "'''\n",
    "Predictions\n",
    "'''\n",
    "\n",
    "indoor_predictions = classifier.predict(test_data[predictors])\n",
    "print(metrics.accuracy_score(test_data[columns_to_predict[0]],\\\n",
    "indoor_predictions))\n"
   ]
  },
  {
   "cell_type": "markdown",
   "metadata": {},
   "source": [
    "# Alpha=0.5, n_jobs=-1, n_iter=20\n",
    "Timestamp: 3:02 PM Oct 30, 2016\n",
    "\n",
    "|num| accuracy\n",
    "|---|----------\n",
    "|1|0.670567056706\n",
    "|2|0.730873087309\n",
    "|3|0.738073807381\n",
    "|4|0.550855085509\n",
    "|5|0.747074707471\n",
    "|6|0.6399639964\n",
    "|7|0.668766876688\n",
    "|8|0.74797479748\n",
    "|9|0.720072007201\n",
    "|10|0.700270027003\n",
    "|11|0.689468946895\n",
    "|12|0.579657965797\n",
    "|13|0.730873087309\n",
    "|14|0.630063006301\n",
    "|15|0.684068406841\n",
    "|16|0.740774077408\n",
    "|17|0.716471647165\n",
    "|18|0.698469846985\n",
    "|19|0.606660666067\n",
    "|20|0.607560756076\n",
    "|21|0.683168316832\n",
    "|22|0.652565256526\n",
    "|23|0.505850585059\n",
    "|24|0.69396939694\n",
    "|25|0.708370837084"
   ]
  },
  {
   "cell_type": "code",
   "execution_count": 224,
   "metadata": {
    "collapsed": false
   },
   "outputs": [
    {
     "data": {
      "text/plain": [
       "0.6736993699373199"
      ]
     },
     "execution_count": 224,
     "metadata": {},
     "output_type": "execute_result"
    }
   ],
   "source": [
    "calculate_avgerage_accuracy([0.670567056706, 0.730873087309, 0.738073807381, 0.550855085509, 0.747074707471,\\\n",
    "                            0.6399639964, 0.668766876688, 0.74797479748, 0.720072007201, 0.700270027003,\\\n",
    "                            0.689468946895, 0.579657965797, 0.730873087309, 0.630063006301, 0.684068406841, \\\n",
    "                            0.740774077408, 0.716471647165, 0.698469846985, 0.606660666067, 0.607560756076,\\\n",
    "                            0.683168316832, 0.652565256526, 0.505850585059, 0.69396939694, 0.708370837084])"
   ]
  },
  {
   "cell_type": "markdown",
   "metadata": {},
   "source": [
    "# Alpha=0.5, n_jobs = -1, n_iter=10\n",
    "Timestamp: 2:55 PM Oct 30, 2016\n",
    "\n",
    "|num| accuracy\n",
    "|---|---------\n",
    "|1|0.726372637264\n",
    "|2|0.647164716472\n",
    "|3|0.618361836184\n",
    "|4|0.732673267327\n",
    "|5|0.74797479748\n",
    "|6|0.590459045905\n",
    "|7|0.630063006301\n",
    "|8|0.66696669667\n",
    "|9|0.737173717372\n",
    "|10|0.593159315932\n",
    "|11|0.72097209721\n",
    "|12|0.6399639964\n",
    "|13|0.712871287129\n",
    "|14|0.573357335734\n",
    "|15|0.583258325833\n",
    "|16|0.688568856886\n",
    "|17|0.709270927093\n",
    "|18|0.663366336634\n",
    "|19|0.703870387039\n",
    "|20|0.572457245725\n",
    "|21|0.670567056706\n",
    "|22|0.712871287129\n",
    "|23|0.664266426643\n",
    "|24|0.616561656166\n",
    "|25|0.718271827183"
   ]
  },
  {
   "cell_type": "code",
   "execution_count": 194,
   "metadata": {
    "collapsed": false
   },
   "outputs": [
    {
     "data": {
      "text/plain": [
       "0.66563456345668"
      ]
     },
     "execution_count": 194,
     "metadata": {},
     "output_type": "execute_result"
    }
   ],
   "source": [
    "calculate_avgerage_accuracy([0.726372637264, 0.647164716472, 0.618361836184, 0.732673267327, 0.74797479748,\\\n",
    "                            0.590459045905, 0.630063006301, 0.66696669667, 0.737173717372, 0.593159315932,\\\n",
    "                            0.72097209721, 0.6399639964, 0.712871287129, 0.573357335734, 0.583258325833, \\\n",
    "                            0.688568856886, 0.709270927093, 0.663366336634, 0.703870387039, 0.572457245725,\\\n",
    "                            0.670567056706, 0.712871287129, 0.664266426643, 0.616561656166, 0.718271827183])"
   ]
  },
  {
   "cell_type": "markdown",
   "metadata": {},
   "source": [
    "# Alpha 1.0, n_jobs = -1\n",
    "Timestamp: 2:44 PM Oct 30, 2016\n",
    "\n",
    "|num| accuracy\n",
    "|---|---------\n",
    "|1|0.730873087309\n",
    "|2|0.700270027003\n",
    "|3|0.632763276328\n",
    "|4|0.658865886589\n",
    "|5|0.728172817282\n",
    "|6|0.525652565257\n",
    "|7|0.732673267327\n",
    "|8|0.658865886589\n",
    "|9|0.676867686769\n",
    "|10|0.728172817282\n",
    "|11|0.701170117012\n",
    "|12|0.718271827183\n",
    "|13|0.730873087309\n",
    "|14|0.750675067507\n",
    "|15|0.640864086409\n",
    "|16|0.704770477048\n",
    "|17|0.676867686769\n",
    "|18|0.510351035104\n",
    "|19|0.545454545455\n",
    "|20|0.586858685869\n",
    "|21|0.558055805581\n",
    "|22|0.611161116112\n",
    "|23|0.573357335734\n",
    "|24|0.721872187219\n",
    "|25|0.610261026103"
   ]
  },
  {
   "cell_type": "code",
   "execution_count": 165,
   "metadata": {
    "collapsed": false
   },
   "outputs": [
    {
     "data": {
      "text/plain": [
       "0.65656165616596"
      ]
     },
     "execution_count": 165,
     "metadata": {},
     "output_type": "execute_result"
    }
   ],
   "source": [
    "calculate_avgerage_accuracy([0.730873087309, 0.700270027003, 0.632763276328, 0.658865886589, 0.728172817282,\\\n",
    "                            0.525652565257, 0.732673267327, 0.658865886589, 0.676867686769, 0.728172817282,\\\n",
    "                            0.701170117012, 0.718271827183, 0.730873087309, 0.750675067507, 0.640864086409,\\\n",
    "                            0.704770477048, 0.676867686769, 0.510351035104, 0.545454545455, 0.586858685869,\\\n",
    "                            0.558055805581, 0.611161116112, 0.573357335734, 0.721872187219, 0.610261026103])"
   ]
  },
  {
   "cell_type": "markdown",
   "metadata": {},
   "source": [
    "# Alpha = 0.5\n",
    "Timestamp: 1:58 PM Oct 30, 2016\n",
    "\n",
    "|num|accuracy\n",
    "|---|--------\n",
    "|1|0.586858685869\n",
    "|2|0.713771377138\n",
    "|3|0.740774077408\n",
    "|4|0.644464446445\n",
    "|5|0.68496849685\n",
    "|6|0.678667866787\n",
    "|7|0.571557155716\n",
    "|8|0.740774077408\n",
    "|9|0.673267326733\n",
    "|10|0.587758775878\n",
    "|11|0.702070207021\n",
    "|12|0.644464446445\n",
    "|13|0.626462646265\n",
    "|14|0.496849684968\n",
    "|15|0.565256525653\n",
    "|16|0.714671467147\n",
    "|17|0.643564356436\n",
    "|18|0.707470747075\n",
    "|19|0.640864086409\n",
    "|20|0.639063906391\n",
    "|21|0.544554455446\n",
    "|22|0.751575157516\n",
    "|23|0.653465346535\n",
    "|24|0.710171017102\n",
    "|25|0.606660666067"
   ]
  },
  {
   "cell_type": "code",
   "execution_count": 139,
   "metadata": {
    "collapsed": false
   },
   "outputs": [
    {
     "data": {
      "text/plain": [
       "0.6508010801083199"
      ]
     },
     "execution_count": 139,
     "metadata": {},
     "output_type": "execute_result"
    }
   ],
   "source": [
    "calculate_avgerage_accuracy([0.586858685869, 0.713771377138, 0.740774077408, 0.644464446445, 0.68496849685, \\\n",
    "                             0.678667866787, 0.571557155716, 0.740774077408, 0.673267326733, 0.587758775878, \\\n",
    "                            0.702070207021, 0.644464446445, 0.626462646265, 0.496849684968, 0.565256525653, \\\n",
    "                            0.714671467147, 0.643564356436, 0.707470747075, 0.640864086409, 0.639063906391, \\\n",
    "                            0.544554455446, 0.751575157516, 0.653465346535, 0.710171017102, 0.606660666067])"
   ]
  },
  {
   "cell_type": "markdown",
   "metadata": {},
   "source": [
    "# Alpha = 1.0\n",
    "Timestamp: 1:49 PM Oct 30, 2016\n",
    "\n",
    "|num|accuracy\n",
    "|---|---------\n",
    "|1|0.739873987399\n",
    "|2|0.71197119712\n",
    "|3|0.703870387039\n",
    "|4|0.723672367237\n",
    "|5|0.711071107111\n",
    "|6|0.695769576958\n",
    "|7|0.585058505851\n",
    "|8|0.717371737174\n",
    "|9|0.659765976598\n",
    "|10|0.60396039604\n",
    "|11|0.666066606661\n",
    "|12|0.694869486949\n",
    "|13|0.746174617462\n",
    "|14|0.616561656166\n",
    "|15|0.608460846085\n",
    "|16|0.721872187219\n",
    "|17|0.553555355536\n",
    "|18|0.620162016202\n",
    "|19|0.717371737174\n",
    "|20|0.674167416742\n",
    "|21|0.705670567057\n",
    "|22|0.716471647165\n",
    "|23|0.657065706571\n",
    "|24|0.55895589559\n",
    "|25|0.679567956796"
   ]
  },
  {
   "cell_type": "code",
   "execution_count": 140,
   "metadata": {
    "collapsed": false
   },
   "outputs": [
    {
     "data": {
      "text/plain": [
       "0.67157515751608"
      ]
     },
     "execution_count": 140,
     "metadata": {},
     "output_type": "execute_result"
    }
   ],
   "source": [
    "calculate_avgerage_accuracy([0.739873987399, 0.71197119712, 0.703870387039, 0.723672367237, 0.711071107111,\\\n",
    "                            0.695769576958, 0.585058505851, 0.717371737174, 0.659765976598, 0.60396039604,\\\n",
    "                            0.666066606661, 0.694869486949, 0.746174617462, 0.616561656166, 0.608460846085,\\\n",
    "                            0.721872187219, 0.553555355536, 0.620162016202, 0.717371737174, 0.674167416742, \\\n",
    "                            0.705670567057, 0.716471647165, 0.657065706571, 0.55895589559, 0.679567956796])"
   ]
  },
  {
   "cell_type": "code",
   "execution_count": null,
   "metadata": {
    "collapsed": true
   },
   "outputs": [],
   "source": []
  }
 ],
 "metadata": {
  "anaconda-cloud": {},
  "kernelspec": {
   "display_name": "Python [default]",
   "language": "python",
   "name": "python3"
  },
  "language_info": {
   "codemirror_mode": {
    "name": "ipython",
    "version": 3
   },
   "file_extension": ".py",
   "mimetype": "text/x-python",
   "name": "python",
   "nbconvert_exporter": "python",
   "pygments_lexer": "ipython3",
   "version": "3.5.2"
  }
 },
 "nbformat": 4,
 "nbformat_minor": 1
}
